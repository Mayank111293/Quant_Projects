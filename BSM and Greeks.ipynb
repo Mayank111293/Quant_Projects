{
 "cells": [
  {
   "cell_type": "code",
   "execution_count": 1,
   "id": "238ddcf2",
   "metadata": {},
   "outputs": [],
   "source": [
    "import numpy as np\n",
    "import pandas as pd\n",
    "from scipy.stats import norm\n",
    "import math"
   ]
  },
  {
   "cell_type": "code",
   "execution_count": 2,
   "id": "2d7d1414",
   "metadata": {},
   "outputs": [],
   "source": [
    "from py_vollib.black_scholes import black_scholes as bs\n",
    "from py_vollib.black_scholes.greeks.analytical import delta,gamma,vega,theta,rho"
   ]
  },
  {
   "cell_type": "code",
   "execution_count": 3,
   "id": "54307380",
   "metadata": {},
   "outputs": [],
   "source": [
    "import mibian"
   ]
  },
  {
   "cell_type": "code",
   "execution_count": 4,
   "id": "8570a2f9",
   "metadata": {},
   "outputs": [
    {
     "name": "stdout",
     "output_type": "stream",
     "text": [
      "Option Price is  (0.1015038401120778, 8.753665123788949)\n"
     ]
    }
   ],
   "source": [
    "# Implementing Black Scholes formula in Python\n",
    "r = .05\n",
    "S = 100\n",
    "K = 110\n",
    "T = 90/365\n",
    "sigma = .1\n",
    "\n",
    "def blackScholes(r,S,K,T,sigma):\n",
    "    d1 = (np.log(S/K) + (r + sigma**2/2)*T)/(sigma*np.sqrt(T))\n",
    "    d2 = d1-sigma*np.sqrt(T)\n",
    "    \n",
    "    priceCall = S*norm.cdf(d1) - K*np.exp(-r*T)*norm.cdf(d2)\n",
    "    pricePut = K*(np.exp(-r*T))*norm.cdf(-d2) - S*norm.cdf(-d1)\n",
    "    \n",
    "    return priceCall,pricePut\n",
    "        \n",
    "        \n",
    "print(\"Option Price is \",blackScholes(r,S,K,T,sigma))\n",
    "        "
   ]
  },
  {
   "cell_type": "code",
   "execution_count": 7,
   "id": "62773a79",
   "metadata": {},
   "outputs": [
    {
     "name": "stdout",
     "output_type": "stream",
     "text": [
      "Option Delta is  (0.04985249352369566, -0.9501475064763043)\n"
     ]
    }
   ],
   "source": [
    "# Delta\n",
    "\n",
    "r = .05\n",
    "S = 100\n",
    "K = 110\n",
    "T = 90/365\n",
    "sigma = .1\n",
    "\n",
    "def Delta(r,S,K,T,sigma):\n",
    "    d1 = (np.log(S/K) + (r + sigma**2/2)*T)/(sigma*np.sqrt(T))\n",
    "    d2 = d1-sigma*np.sqrt(T)\n",
    "    \n",
    "    delta_call = norm.cdf(d1)\n",
    "    delta_put = -norm.cdf(-d1)\n",
    "    \n",
    "    return delta_call,delta_put\n",
    "\n",
    "print(\"Option Delta is \",Delta(r,S,K,T,sigma))"
   ]
  },
  {
   "cell_type": "code",
   "execution_count": 9,
   "id": "109ed478",
   "metadata": {},
   "outputs": [
    {
     "name": "stdout",
     "output_type": "stream",
     "text": [
      "Option Gamma is  (0.020720995678374817, 0.020720995678374817)\n"
     ]
    }
   ],
   "source": [
    "# Gamma \n",
    "\n",
    "r = .05\n",
    "S = 100\n",
    "K = 110\n",
    "T = 90/365\n",
    "sigma = .1\n",
    "\n",
    "def Gamma(r,S,K,T,sigma):\n",
    "    d1 = (np.log(S/K) + (r + sigma**2/2)*T)/(sigma*np.sqrt(T))\n",
    "    d2 = d1-sigma*np.sqrt(T)\n",
    "    \n",
    "    gamma_call =norm.pdf(d1)/(S*sigma*np.sqrt(T))\n",
    "    gamma_put = norm.pdf(d1)/(S*sigma*np.sqrt(T))\n",
    "    \n",
    "    return gamma_call,gamma_put\n",
    "\n",
    "print(\"Option Gamma is \",Gamma(r,S,K,T,sigma))"
   ]
  },
  {
   "cell_type": "code",
   "execution_count": 21,
   "id": "e94db82a",
   "metadata": {},
   "outputs": [
    {
     "name": "stdout",
     "output_type": "stream",
     "text": [
      "Option Vega is  (0.05109286605626667, 0.05109286605626667)\n"
     ]
    }
   ],
   "source": [
    "# Vega\n",
    "r = .05\n",
    "S = 100\n",
    "K = 110\n",
    "T = 90/365\n",
    "sigma = .1\n",
    "\n",
    "def Vega(r,S,K,T,sigma):\n",
    "    d1 = (np.log(S/K) + (r + sigma**2/2)*T)/(sigma*np.sqrt(T))\n",
    "    d2 = d1-sigma*np.sqrt(T)\n",
    "    \n",
    "    vega_call = norm.pdf(d1)*S*np.sqrt(T)\n",
    "    vega_put = norm.pdf(d1)*S*np.sqrt(T) \n",
    "    \n",
    "    return vega_call*.01,vega_put*.01\n",
    "\n",
    "print(\"Option Vega is \",Vega(r,S,K,T,sigma))"
   ]
  },
  {
   "cell_type": "code",
   "execution_count": 22,
   "id": "041da4c7",
   "metadata": {},
   "outputs": [
    {
     "name": "stdout",
     "output_type": "stream",
     "text": [
      "Option Theta is  (-0.0035074987932373026, 0.011376358916855423)\n"
     ]
    }
   ],
   "source": [
    "# Theta\n",
    "r = .05\n",
    "S = 100\n",
    "K = 110\n",
    "T = 90/365\n",
    "sigma = .1\n",
    "\n",
    "def Theta(r,S,K,T,sigma):\n",
    "    d1 = (np.log(S/K) + (r + sigma**2/2)*T)/(sigma*np.sqrt(T))\n",
    "    d2 = d1-sigma*np.sqrt(T)\n",
    "    \n",
    "    theta_call = -S*norm.pdf(d1)*sigma/(2*np.sqrt(T)) - r*K*np.exp(-r*T)*norm.cdf(d2)\n",
    "    theta_put = - S*norm.pdf(d1)*sigma/(2*np.sqrt(T)) + r*K*np.exp(-r*T)*norm.cdf(-d2) \n",
    "    \n",
    "    return theta_call/365,theta_put/365\n",
    "\n",
    "print(\"Option Theta is \",Theta(r,S,K,T,sigma))"
   ]
  },
  {
   "cell_type": "code",
   "execution_count": null,
   "id": "61a8ad4f",
   "metadata": {},
   "outputs": [],
   "source": []
  },
  {
   "cell_type": "code",
   "execution_count": 97,
   "id": "4b2675d6",
   "metadata": {},
   "outputs": [
    {
     "name": "stdout",
     "output_type": "stream",
     "text": [
      "Option Price is  0.10150384011207655 8.753665123788956\n",
      "Delta of Call and Put 0.04985249352369565 -0.9501475064763043 \n",
      "Gamma, Rho,Theta and vega are 0.020720995678374817 0.012042112222004762 -0.003507498793237302 0.05109286605626667\n"
     ]
    }
   ],
   "source": [
    "# Option pricing and Greeks using py_vollib library\n",
    "r = .05\n",
    "S = 100\n",
    "K = 110\n",
    "T = 90/365\n",
    "sigma = .10\n",
    "\n",
    "Call = bs('c',S,K,T,r,sigma)\n",
    "Put = bs('p',S,K,T,r,sigma)        \n",
    "delta_Call = delta('c',S,K,T,r,sigma)\n",
    "delta_Put = delta('p',S,K,T,r,sigma)\n",
    "gamma_Call = gamma('c', S, K, T, r, sigma)\n",
    "rho_Call = rho('c', S, K, T, r, sigma)\n",
    "theta_Call = theta('c', S, K, T, r, sigma)\n",
    "vega_Call = vega('c', S, K, T, r, sigma)\n",
    "\n",
    "print(\"Option Price is \",Call,Put)\n",
    "print(\"Delta of Call and Put\",delta_Call,delta_Put,\"\\nGamma, Rho,Theta and vega are\", gamma_Call,rho_Call,theta_Call,vega_Call)\n",
    "        "
   ]
  },
  {
   "cell_type": "code",
   "execution_count": 103,
   "id": "d7e09d8e",
   "metadata": {},
   "outputs": [],
   "source": [
    "# Option Price and Greeks using Mibian Library\n",
    "import mibian\n",
    "r = .05\n",
    "S = 100\n",
    "K = 110\n",
    "T = 90/365\n",
    "sigma = .10"
   ]
  },
  {
   "cell_type": "code",
   "execution_count": 104,
   "id": "bc834147",
   "metadata": {},
   "outputs": [],
   "source": [
    "c = mibian.BS([S,K,5,90],volatility = 10)"
   ]
  },
  {
   "cell_type": "code",
   "execution_count": 105,
   "id": "65579927",
   "metadata": {},
   "outputs": [
    {
     "data": {
      "text/plain": [
       "0.1015038401120778"
      ]
     },
     "execution_count": 105,
     "metadata": {},
     "output_type": "execute_result"
    }
   ],
   "source": [
    "call_Price = c.callPrice\n",
    "call_Price"
   ]
  },
  {
   "cell_type": "code",
   "execution_count": 85,
   "id": "6ce7aa72",
   "metadata": {},
   "outputs": [
    {
     "data": {
      "text/plain": [
       "8.753665123788949"
      ]
     },
     "execution_count": 85,
     "metadata": {},
     "output_type": "execute_result"
    }
   ],
   "source": [
    "c.putPrice"
   ]
  },
  {
   "cell_type": "code",
   "execution_count": 86,
   "id": "6255886b",
   "metadata": {},
   "outputs": [
    {
     "data": {
      "text/plain": [
       "0.04985249352369566"
      ]
     },
     "execution_count": 86,
     "metadata": {},
     "output_type": "execute_result"
    }
   ],
   "source": [
    "c.callDelta"
   ]
  },
  {
   "cell_type": "code",
   "execution_count": 87,
   "id": "06a38d4a",
   "metadata": {},
   "outputs": [
    {
     "data": {
      "text/plain": [
       "-0.9501475064763043"
      ]
     },
     "execution_count": 87,
     "metadata": {},
     "output_type": "execute_result"
    }
   ],
   "source": [
    "c.putDelta"
   ]
  },
  {
   "cell_type": "code",
   "execution_count": 89,
   "id": "dba33ce6",
   "metadata": {},
   "outputs": [
    {
     "data": {
      "text/plain": [
       "0.020720995678374817"
      ]
     },
     "execution_count": 89,
     "metadata": {},
     "output_type": "execute_result"
    }
   ],
   "source": [
    "c.gamma"
   ]
  },
  {
   "cell_type": "code",
   "execution_count": 91,
   "id": "584d6463",
   "metadata": {},
   "outputs": [
    {
     "data": {
      "text/plain": [
       "0.012042112222004766"
      ]
     },
     "execution_count": 91,
     "metadata": {},
     "output_type": "execute_result"
    }
   ],
   "source": [
    "c.callRho"
   ]
  },
  {
   "cell_type": "code",
   "execution_count": 92,
   "id": "db9949b5",
   "metadata": {},
   "outputs": [
    {
     "data": {
      "text/plain": [
       "-0.0035074987932373026"
      ]
     },
     "execution_count": 92,
     "metadata": {},
     "output_type": "execute_result"
    }
   ],
   "source": [
    "c.callTheta"
   ]
  },
  {
   "cell_type": "code",
   "execution_count": 93,
   "id": "aa16bda3",
   "metadata": {},
   "outputs": [
    {
     "data": {
      "text/plain": [
       "0.05109286605626667"
      ]
     },
     "execution_count": 93,
     "metadata": {},
     "output_type": "execute_result"
    }
   ],
   "source": [
    "c.vega"
   ]
  },
  {
   "cell_type": "code",
   "execution_count": 107,
   "id": "0cff5204",
   "metadata": {},
   "outputs": [],
   "source": [
    "c = mibian.BS([S,K,5,90],callPrice =0.1015038401120778 )"
   ]
  },
  {
   "cell_type": "code",
   "execution_count": 108,
   "id": "3d071a3a",
   "metadata": {},
   "outputs": [
    {
     "data": {
      "text/plain": [
       "10.00000536441803"
      ]
     },
     "execution_count": 108,
     "metadata": {},
     "output_type": "execute_result"
    }
   ],
   "source": [
    "c.impliedVolatility"
   ]
  },
  {
   "cell_type": "code",
   "execution_count": null,
   "id": "f7c5ed13",
   "metadata": {},
   "outputs": [],
   "source": []
  }
 ],
 "metadata": {
  "kernelspec": {
   "display_name": "Python 3 (ipykernel)",
   "language": "python",
   "name": "python3"
  },
  "language_info": {
   "codemirror_mode": {
    "name": "ipython",
    "version": 3
   },
   "file_extension": ".py",
   "mimetype": "text/x-python",
   "name": "python",
   "nbconvert_exporter": "python",
   "pygments_lexer": "ipython3",
   "version": "3.9.7"
  }
 },
 "nbformat": 4,
 "nbformat_minor": 5
}
