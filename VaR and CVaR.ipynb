{
 "cells": [
  {
   "cell_type": "code",
   "execution_count": 29,
   "id": "5b788b85",
   "metadata": {},
   "outputs": [],
   "source": [
    "import numpy as np\n",
    "import pandas as pd\n",
    "import datetime as dt\n",
    "import yfinance as yf\n",
    "from scipy.stats import norm,t"
   ]
  },
  {
   "cell_type": "code",
   "execution_count": 24,
   "id": "b436770d",
   "metadata": {},
   "outputs": [
    {
     "name": "stdout",
     "output_type": "stream",
     "text": [
      "[*********************100%%**********************]  5 of 5 completed\n",
      "                AAPL      AMZN       BHP      CBA       IBM  Portfolio\n",
      "Date                                                                  \n",
      "2022-06-15  0.020111  0.052390  0.033016  0.00000  0.009873   0.013778\n",
      "2022-06-16 -0.039651 -0.037243 -0.028087  0.00000 -0.010142  -0.014402\n",
      "2022-06-17  0.011533  0.024696 -0.040691  0.00000 -0.004791  -0.002576\n",
      "2022-06-21  0.032761  0.023159 -0.000692  0.00000  0.020960   0.007334\n",
      "2022-06-22 -0.003827  0.002484 -0.036556  0.37931 -0.005586   0.007449\n"
     ]
    }
   ],
   "source": [
    "def getData(stocks, start, end):\n",
    "    \n",
    "    stocksData = yf.download(stocks,start= start,end= end)\n",
    "    stocksData = stocksData['Close']\n",
    "    \n",
    "    pct_return = stocksData.pct_change().dropna()\n",
    "    \n",
    "    meanR = pct_return.mean()\n",
    "    covMatrix = pct_return.cov()\n",
    "    \n",
    "    return pct_return,meanR,covMatrix\n",
    "\n",
    "def portfolio_Performance(weights, meanR,covMatrix,time):\n",
    "    ret = np.sum(weights*meanR)*time\n",
    "    std_dev = np.sqrt(np.dot(weights.T , np.dot(covMatrix,weights))) * np.sqrt(time)\n",
    "    return ret,std_dev\n",
    "\n",
    "\n",
    "stockList = ['CBA','BHP','AAPL','AMZN','IBM']\n",
    "\n",
    "endDate = dt.datetime.now()\n",
    "startDate = endDate - dt.timedelta(days = 500)\n",
    "\n",
    "returns,meanR,covMatrix = getData(stockList,start =startDate,end =endDate)\n",
    "\n",
    "\n",
    "weights = np.random.random(len(stockList))\n",
    "weights = weights/np.sum(len(stockList))\n",
    "\n",
    "returns['Portfolio'] = returns.dot(weights)\n",
    "print(returns.head())"
   ]
  },
  {
   "cell_type": "code",
   "execution_count": 51,
   "id": "ddec1e7f",
   "metadata": {},
   "outputs": [
    {
     "name": "stdout",
     "output_type": "stream",
     "text": [
      "-0.01127956070500292\n"
     ]
    }
   ],
   "source": [
    "def historicalVaR(returns,alpha =5):\n",
    "    VaR = np.percentile(returns['Portfolio'], alpha)\n",
    "    return VaR\n",
    "\n",
    "value_at_Risk = historicalVaR(returns,alpha=5)\n",
    "print(value_at_Risk)"
   ]
  },
  {
   "cell_type": "code",
   "execution_count": 81,
   "id": "e93e1c46",
   "metadata": {},
   "outputs": [
    {
     "data": {
      "text/plain": [
       "Date\n",
       "2022-06-15    0.013778\n",
       "2022-06-16   -0.014402\n",
       "2022-06-17   -0.002576\n",
       "2022-06-21    0.007334\n",
       "2022-06-22    0.007449\n",
       "                ...   \n",
       "2023-10-20   -0.009705\n",
       "2023-10-23    0.001147\n",
       "2023-10-24    0.008105\n",
       "2023-10-25   -0.006302\n",
       "2023-10-26   -0.004529\n",
       "Name: Portfolio, Length: 344, dtype: float64"
      ]
     },
     "execution_count": 81,
     "metadata": {},
     "output_type": "execute_result"
    }
   ],
   "source": [
    "returns['Portfolio'][belowVaR]\n"
   ]
  },
  {
   "cell_type": "code",
   "execution_count": 26,
   "id": "42092ad0",
   "metadata": {},
   "outputs": [
    {
     "name": "stdout",
     "output_type": "stream",
     "text": [
      "-0.014247047060962205\n"
     ]
    }
   ],
   "source": [
    "def historicalES(returns,alpha =5):\n",
    "    belowVaR = returns['Portfolio'] < value_at_Risk\n",
    "    return returns['Portfolio'][belowVaR].mean()\n",
    "\n",
    "print(historicalES(returns,alpha=5))"
   ]
  },
  {
   "cell_type": "code",
   "execution_count": 27,
   "id": "0e903373",
   "metadata": {},
   "outputs": [
    {
     "name": "stdout",
     "output_type": "stream",
     "text": [
      "Expected Portfolio Returns: 178.91\n",
      "Value at Risk at 95th percentile: 5639.78\n",
      "Expected Shortfall at 95th percentile:  7123.52\n"
     ]
    }
   ],
   "source": [
    "# Lets assume the initial investment of $ 500000 and we are looking at a time horizon of 1 day for VaR and ES.\n",
    "\n",
    "time = 1\n",
    "Initial_Investment = 500000\n",
    "\n",
    "Portfolio_R,Portfolio_Std = portfolio_Performance(weights, meanR,covMatrix,time)\n",
    "VaR =- historicalVaR(returns,alpha =5)*np.sqrt(time)\n",
    "ES =- historicalES(returns,alpha =5)*np.sqrt(time)\n",
    "\n",
    "print(\"Expected Portfolio Returns:\" ,round(Portfolio_R*Initial_Investment,2))\n",
    "print(\"Value at Risk at 95th percentile:\", round(VaR*Initial_Investment,2))\n",
    "print(\"Expected Shortfall at 95th percentile: \", round(ES* Initial_Investment,2))"
   ]
  },
  {
   "cell_type": "code",
   "execution_count": 38,
   "id": "4a1c741c",
   "metadata": {},
   "outputs": [
    {
     "name": "stdout",
     "output_type": "stream",
     "text": [
      "Parametric Value at Risk at 95th percentile: 5922.63\n",
      "Parametric Expected Shortfall at 95th percentile:  7830.49\n"
     ]
    }
   ],
   "source": [
    "# Parametric VaR and ES\n",
    "\n",
    "alpha = 5\n",
    "\n",
    "def Parameteric_VaR(Portfolio_Return,Portfolio_Std,distribution='normal'):\n",
    "    VaR = Portfolio_Return + Portfolio_Std*norm.ppf(alpha/100)\n",
    "    return VaR\n",
    "\n",
    "def Parameteric_ES(Portfolio_Return,Portfolio_Std,distribution='normal'):\n",
    "    ES = Portfolio_Return + Portfolio_Std*norm.pdf(norm.ppf(alpha/100))/(alpha/100)\n",
    "    return ES\n",
    "\n",
    "normal_VaR = -Parameteric_VaR(Portfolio_R,Portfolio_Std)\n",
    "normal_ES =  Parameteric_ES(Portfolio_R,Portfolio_Std)\n",
    "\n",
    "print(\"Parametric Value at Risk at 95th percentile:\", round(normal_VaR*Initial_Investment,2))\n",
    "print(\"Parametric Expected Shortfall at 95th percentile: \", round(normal_ES* Initial_Investment,2))       "
   ]
  },
  {
   "cell_type": "code",
   "execution_count": 99,
   "id": "d5d1730d",
   "metadata": {},
   "outputs": [],
   "source": [
    "# VaR and ES using Monte Carlo Simulation\n",
    "\n",
    "Portfolio_R,Portfolio_Std = portfolio_Performance(weights, meanR,covMatrix,time)\n",
    "\n",
    "def random_z_score():\n",
    "    return np.random.normal(0, 1)\n",
    "\n",
    "def scenario(Initial_Investment,Portfolio_R,Portfolio_Std,z_score,time):\n",
    "    return Initial_Investment*Portfolio_R*time + Initial_Investment*Portfolio_Std*z_score*np.sqrt(time)\n",
    "\n",
    "\n",
    "simulations = 100000\n",
    "scenario_ret = []\n",
    "\n",
    "for i in range(simulations):\n",
    "    z_score=random_z_score()\n",
    "    scenario_ret.append(scenario(Initial_Investment,Portfolio_R,Portfolio_Std,z_score,time))\n",
    "\n",
    "\n",
    "    \n",
    "scenario_ret = pd.Series(scenario_ret)\n"
   ]
  },
  {
   "cell_type": "code",
   "execution_count": 107,
   "id": "75728294",
   "metadata": {},
   "outputs": [
    {
     "name": "stdout",
     "output_type": "stream",
     "text": [
      "5970.819850212035\n"
     ]
    }
   ],
   "source": [
    "def MCS_VaR(scenario_ret,alpha =5):\n",
    "    VaR = np.percentile(scenario_ret, alpha)\n",
    "    return VaR\n",
    "\n",
    "value_at_Risk_MCS = MCS_VaR(scenario_ret,alpha=5)\n",
    "print(-value_at_Risk_MCS)"
   ]
  },
  {
   "cell_type": "code",
   "execution_count": 108,
   "id": "43a64bfb",
   "metadata": {},
   "outputs": [
    {
     "name": "stdout",
     "output_type": "stream",
     "text": [
      "7499.913398943202\n"
     ]
    }
   ],
   "source": [
    "def MCS_ES(scenario_ret,alpha=5):\n",
    "    belowVaR_MCS = scenario_ret <value_at_Risk_MCS\n",
    "    return scenario_ret[belowVaR_MCS].mean()\n",
    "\n",
    "Expected_Shortfall_MCS = MCS_ES(scenario_ret,alpha=5)\n",
    "\n",
    "print(-Expected_Shortfall_MCS)"
   ]
  },
  {
   "cell_type": "code",
   "execution_count": null,
   "id": "21ac1878",
   "metadata": {},
   "outputs": [],
   "source": []
  },
  {
   "cell_type": "code",
   "execution_count": null,
   "id": "1c38f234",
   "metadata": {},
   "outputs": [],
   "source": []
  }
 ],
 "metadata": {
  "kernelspec": {
   "display_name": "Python 3 (ipykernel)",
   "language": "python",
   "name": "python3"
  },
  "language_info": {
   "codemirror_mode": {
    "name": "ipython",
    "version": 3
   },
   "file_extension": ".py",
   "mimetype": "text/x-python",
   "name": "python",
   "nbconvert_exporter": "python",
   "pygments_lexer": "ipython3",
   "version": "3.9.7"
  }
 },
 "nbformat": 4,
 "nbformat_minor": 5
}
