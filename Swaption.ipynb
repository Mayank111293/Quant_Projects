{
 "cells": [
  {
   "cell_type": "code",
   "execution_count": 32,
   "id": "91c42a1f",
   "metadata": {},
   "outputs": [],
   "source": [
    "from math import log, sqrt, exp\n",
    "from scipy import stats"
   ]
  },
  {
   "cell_type": "code",
   "execution_count": 42,
   "id": "c6384e4c",
   "metadata": {},
   "outputs": [],
   "source": [
    "def compute_black_swaption_price(notional, annuity, s_f, T, strike, sigma, opt_type=\"payer\"):\n",
    "    \n",
    "    d1 = (log(s_f/strike) + (sigma*sigma/2)*T)/(sigma*sqrt(T))\n",
    "    d2 = d1 - sigma*sqrt(T)\n",
    "    \n",
    "    price = 0\n",
    "    \n",
    "    if (opt_type =='payer'): \n",
    "        price = notional*annuity*(s_f*stats.norm.cdf(d1) - strike*stats.norm.cdf(d2))\n",
    "        return price\n",
    "    if (opt_type =='receiver'): \n",
    "        price = notional*annuity*(strike*stats.norm.cdf(-d2) - s_f*stats.norm.cdf(-d1))\n",
    "        return price"
   ]
  },
  {
   "cell_type": "code",
   "execution_count": 43,
   "id": "fca575be",
   "metadata": {},
   "outputs": [
    {
     "name": "stdout",
     "output_type": "stream",
     "text": [
      "continuous Swap rate: 6.1\n"
     ]
    }
   ],
   "source": [
    "s_f = (exp(-T*rate) - exp(-(T+term)*rate))/annuity  # Forward Swap rate in continuos compounding\n",
    "print('continuous Swap rate:',round(s_f*100,1))"
   ]
  },
  {
   "cell_type": "code",
   "execution_count": 44,
   "id": "1da79a5e",
   "metadata": {},
   "outputs": [
    {
     "name": "stdout",
     "output_type": "stream",
     "text": [
      "semi-annual swap rate: 6.185\n"
     ]
    }
   ],
   "source": [
    "s_f = freq*(exp(s_f/freq) -1)    # Forward Swap rate in semi annual compunding\n",
    "print('semi-annual swap rate:', round(s_f*100,3))"
   ]
  },
  {
   "cell_type": "code",
   "execution_count": 57,
   "id": "2c444f58",
   "metadata": {},
   "outputs": [],
   "source": [
    "# Inputs for a 3 year swap starting in 5 years\n",
    "\n",
    "notional = 100\n",
    "s_f = 6.185/100 # forward swap rate\n",
    "T = 5\n",
    "strike = 6.2/100 # Fixed/Strike rate\n",
    "rate = 6/100   #risk-free zero curve is flat at 6% per annum with continuous compunding\n",
    "term = 3\n",
    "freq = 2 #Exchange of cash flows at half-yearly intervals\n",
    "sigma = 0.20  # vol of forward swap rate\n",
    "\n",
    "annuity = 0.0\n",
    "deltaT = 1/freq; t = 0"
   ]
  },
  {
   "cell_type": "code",
   "execution_count": 58,
   "id": "4a4e8248",
   "metadata": {},
   "outputs": [],
   "source": [
    "for i in range(term*freq):\n",
    "        t += deltaT\n",
    "        annuity += (1/freq)*exp(-rate*(t+T))"
   ]
  },
  {
   "cell_type": "code",
   "execution_count": 59,
   "id": "71c8a34a",
   "metadata": {},
   "outputs": [
    {
     "name": "stdout",
     "output_type": "stream",
     "text": [
      "swaption price is: 2.210317752051362\n"
     ]
    }
   ],
   "source": [
    "opt_price = compute_black_swaption_price(notional, annuity, s_f, T, strike, sigma, opt_type=\"receiver\")\n",
    "print (\"swaption price is:\",opt_price)"
   ]
  },
  {
   "cell_type": "code",
   "execution_count": null,
   "id": "597a634f",
   "metadata": {},
   "outputs": [],
   "source": []
  }
 ],
 "metadata": {
  "kernelspec": {
   "display_name": "Python 3 (ipykernel)",
   "language": "python",
   "name": "python3"
  },
  "language_info": {
   "codemirror_mode": {
    "name": "ipython",
    "version": 3
   },
   "file_extension": ".py",
   "mimetype": "text/x-python",
   "name": "python",
   "nbconvert_exporter": "python",
   "pygments_lexer": "ipython3",
   "version": "3.9.7"
  }
 },
 "nbformat": 4,
 "nbformat_minor": 5
}
